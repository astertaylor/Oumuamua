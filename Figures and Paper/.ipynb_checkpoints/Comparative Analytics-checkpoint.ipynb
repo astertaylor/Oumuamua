{
 "cells": [
  {
   "cell_type": "code",
   "execution_count": 1,
   "id": "c3ac532d",
   "metadata": {},
   "outputs": [],
   "source": [
    "import numpy as np\n",
    "import pandas as pd\n",
    "import matplotlib.pyplot as plt"
   ]
  },
  {
   "cell_type": "code",
   "execution_count": 2,
   "id": "15607723",
   "metadata": {},
   "outputs": [
    {
     "ename": "FileNotFoundError",
     "evalue": "[Errno 2] No such file or directory: 'horizons_results.txt'",
     "output_type": "error",
     "traceback": [
      "\u001b[1;31m---------------------------------------------------------------------------\u001b[0m",
      "\u001b[1;31mFileNotFoundError\u001b[0m                         Traceback (most recent call last)",
      "\u001b[1;32m<ipython-input-2-74c897564c7d>\u001b[0m in \u001b[0;36m<module>\u001b[1;34m\u001b[0m\n\u001b[1;32m----> 1\u001b[1;33m \u001b[0mdatfile\u001b[0m\u001b[1;33m=\u001b[0m\u001b[0mopen\u001b[0m\u001b[1;33m(\u001b[0m\u001b[1;34m'horizons_results.txt'\u001b[0m\u001b[1;33m,\u001b[0m\u001b[1;34m'r'\u001b[0m\u001b[1;33m,\u001b[0m\u001b[0merrors\u001b[0m\u001b[1;33m=\u001b[0m\u001b[1;34m'replace'\u001b[0m\u001b[1;33m)\u001b[0m\u001b[1;33m\u001b[0m\u001b[1;33m\u001b[0m\u001b[0m\n\u001b[0m\u001b[0;32m      2\u001b[0m \u001b[0mlines\u001b[0m\u001b[1;33m=\u001b[0m\u001b[0mdatfile\u001b[0m\u001b[1;33m.\u001b[0m\u001b[0mreadlines\u001b[0m\u001b[1;33m(\u001b[0m\u001b[1;33m)\u001b[0m\u001b[1;33m\u001b[0m\u001b[1;33m\u001b[0m\u001b[0m\n\u001b[0;32m      3\u001b[0m \u001b[0mdatfile\u001b[0m\u001b[1;33m.\u001b[0m\u001b[0mclose\u001b[0m\u001b[1;33m(\u001b[0m\u001b[1;33m)\u001b[0m\u001b[1;33m\u001b[0m\u001b[1;33m\u001b[0m\u001b[0m\n\u001b[0;32m      4\u001b[0m \u001b[0mlines\u001b[0m\u001b[1;33m=\u001b[0m\u001b[1;33m[\u001b[0m\u001b[0mf\u001b[0m\u001b[1;33m.\u001b[0m\u001b[0mstrip\u001b[0m\u001b[1;33m(\u001b[0m\u001b[1;34m'\\n'\u001b[0m\u001b[1;33m)\u001b[0m \u001b[1;32mfor\u001b[0m \u001b[0mf\u001b[0m \u001b[1;32min\u001b[0m \u001b[0mlines\u001b[0m\u001b[1;33m]\u001b[0m\u001b[1;33m\u001b[0m\u001b[1;33m\u001b[0m\u001b[0m\n\u001b[0;32m      5\u001b[0m \u001b[0mnlines\u001b[0m\u001b[1;33m=\u001b[0m\u001b[1;33m[\u001b[0m\u001b[1;33m]\u001b[0m\u001b[1;33m\u001b[0m\u001b[1;33m\u001b[0m\u001b[0m\n",
      "\u001b[1;31mFileNotFoundError\u001b[0m: [Errno 2] No such file or directory: 'horizons_results.txt'"
     ]
    }
   ],
   "source": [
    "datfile=open('horizons_results.txt','r',errors='replace')\n",
    "lines=datfile.readlines()\n",
    "datfile.close()\n",
    "lines=[f.strip('\\n') for f in lines]\n",
    "nlines=[]\n",
    "times=[];dist=[]\n",
    "for dat in lines:\n",
    "    try:\n",
    "        int(dat[0])\n",
    "        nlines.append(dat)\n",
    "    except: continue\n",
    "nlines=nlines[3:]\n",
    "for dat in nlines:\n",
    "    dat=dat.split()\n",
    "    times.append(float(dat[0]))\n",
    "    dist.append(float(dat[3]))\n",
    "times=np.array([times])[0] #in days, converting to seconds\n",
    "tdist=1.49e13*np.array([dist])[0]#in au, converting to meters\n",
    "\n",
    "peri=2458006\n",
    "times=times-peri"
   ]
  },
  {
   "cell_type": "code",
   "execution_count": 4,
   "id": "cd775721",
   "metadata": {},
   "outputs": [],
   "source": [
    "cutoff=4.7e13\n",
    "dist=np.unique(tdist[np.where(times>0)])\n",
    "dist=dist[np.where(dist<=cutoff)]"
   ]
  },
  {
   "cell_type": "code",
   "execution_count": 5,
   "id": "98c4ccb1",
   "metadata": {},
   "outputs": [],
   "source": [
    "ntheta=500\n",
    "nr=500\n",
    "\n",
    "theta=np.linspace(0,np.pi,ntheta)\n",
    "r=dist[np.round(np.linspace(0, len(dist) - 1, nr)).astype(int)]\n",
    "THETA,R=np.meshgrid(theta,r,indexing='ij')"
   ]
  },
  {
   "cell_type": "code",
   "execution_count": 11,
   "id": "d539c422",
   "metadata": {},
   "outputs": [],
   "source": [
    "def tauratio(a,c,r,theta):\n",
    "    alpha=5*1.101e23/(4*6.67e-8*2e33)\n",
    "    \n",
    "    term1=(r**2-(a**2-c**2)*np.cos(theta)**2)**2\n",
    "    term2=r**3*np.sqrt((a*np.cos(theta))**2+(c*np.sin(theta))**2)\n",
    "    \n",
    "    return(alpha*term1/term2)"
   ]
  },
  {
   "cell_type": "code",
   "execution_count": 45,
   "id": "01bc2ec9",
   "metadata": {},
   "outputs": [],
   "source": [
    "def tides(a,c,r,theta):\n",
    "    G=6.67e-8\n",
    "    M=2e33\n",
    "    alpha=8*np.pi/15*G*M\n",
    "    \n",
    "    term1=a**2*c*r*(a**2-c**2)*np.sin(2*theta)\n",
    "    term2=(r**2-(a**2-c**2)*np.cos(theta)**2)**2\n",
    "    \n",
    "    return(alpha*term1/term2)\n",
    "\n",
    "def jet(a,c,r,theta):\n",
    "    beta=2.306e23\n",
    "    \n",
    "    term1=a**2*c*(a**2-c**2)*np.sin(2*theta)\n",
    "    term2=r**2*np.sqrt((a*np.cos(theta))**2+(c*np.sin(theta))**2)\n",
    "    \n",
    "    return(beta*term1/term2)"
   ]
  },
  {
   "cell_type": "code",
   "execution_count": 46,
   "id": "ff6a5fc8",
   "metadata": {},
   "outputs": [
    {
     "name": "stdout",
     "output_type": "stream",
     "text": [
      "622598.1670774779\n"
     ]
    }
   ],
   "source": [
    "print(tauratio(11500,11500/6,0.26*1.49e13,1))"
   ]
  },
  {
   "cell_type": "code",
   "execution_count": 47,
   "id": "6bf02514",
   "metadata": {},
   "outputs": [
    {
     "name": "stdout",
     "output_type": "stream",
     "text": [
      "113929197.45918106\n",
      "70934293290129.3\n",
      "622617.3349070055\n"
     ]
    }
   ],
   "source": [
    "print(tides(11500,11500/6,0.26*1.49e13,1))\n",
    "print(jet(11500,11500/6,0.26*1.49e13,1))\n",
    "\n",
    "print(jet(11500,11500/6,0.26*1.49e13,1)/tides(11500,11500/6,0.26*1.49e13,1))"
   ]
  },
  {
   "cell_type": "code",
   "execution_count": 7,
   "id": "c1d68a78",
   "metadata": {},
   "outputs": [],
   "source": [
    "COLOR = 'k'#'#FFFAF1'\n",
    "plt.rcParams['font.size'] = 25\n",
    "plt.rcParams['text.color'] = COLOR\n",
    "plt.rcParams['axes.labelcolor'] = COLOR\n",
    "plt.rcParams['xtick.color'] = COLOR\n",
    "plt.rcParams['ytick.color'] = COLOR\n",
    "\n",
    "plt.rcParams['xtick.major.width'] = 5\n",
    "plt.rcParams['ytick.major.width'] = 5\n",
    "plt.rcParams['xtick.major.size']  = 16 #12\n",
    "plt.rcParams['ytick.major.size']  = 16#12\n",
    "\n",
    "plt.rcParams['xtick.minor.width'] = 1\n",
    "plt.rcParams['ytick.minor.width'] = 1\n",
    "plt.rcParams['xtick.minor.size']  = 8\n",
    "plt.rcParams['ytick.minor.size']  = 8\n",
    "\n",
    "plt.rcParams['axes.linewidth'] = 5\n",
    "\n",
    "plt.rcParams['text.color'] = COLOR\n",
    "plt.rcParams['xtick.color'] = COLOR\n",
    "plt.rcParams['ytick.color'] = COLOR\n",
    "plt.rcParams['axes.labelcolor'] = COLOR\n",
    "#plt.rcParams['axes.spines.top'] = False\n",
    "#plt.rcParams['axes.spines.right'] = False\n",
    "plt.rcParams['axes.labelcolor'] = COLOR\n",
    "plt.rcParams['axes.edgecolor'] = COLOR\n",
    "plt.rcParams['figure.facecolor'] = 'none'\n",
    "plt.rcParams['legend.facecolor'] = 'none'\n"
   ]
  },
  {
   "cell_type": "code",
   "execution_count": 3,
   "id": "e718f19d",
   "metadata": {},
   "outputs": [
    {
     "ename": "NameError",
     "evalue": "name 'tauratio' is not defined",
     "output_type": "error",
     "traceback": [
      "\u001b[1;31m---------------------------------------------------------------------------\u001b[0m",
      "\u001b[1;31mNameError\u001b[0m                                 Traceback (most recent call last)",
      "\u001b[1;32m<ipython-input-3-9cf822d4b2a4>\u001b[0m in \u001b[0;36m<module>\u001b[1;34m\u001b[0m\n\u001b[0;32m      2\u001b[0m \u001b[1;32mimport\u001b[0m \u001b[0mmatplotlib\u001b[0m\u001b[1;33m.\u001b[0m\u001b[0mcolors\u001b[0m \u001b[1;32mas\u001b[0m \u001b[0mcolors\u001b[0m\u001b[1;33m\u001b[0m\u001b[1;33m\u001b[0m\u001b[0m\n\u001b[0;32m      3\u001b[0m \u001b[1;33m\u001b[0m\u001b[0m\n\u001b[1;32m----> 4\u001b[1;33m \u001b[0mratio\u001b[0m\u001b[1;33m=\u001b[0m\u001b[0mtauratio\u001b[0m\u001b[1;33m(\u001b[0m\u001b[1;36m11500\u001b[0m\u001b[1;33m,\u001b[0m\u001b[1;36m1900\u001b[0m\u001b[1;33m,\u001b[0m\u001b[0mR\u001b[0m\u001b[1;33m,\u001b[0m\u001b[0mTHETA\u001b[0m\u001b[1;33m)\u001b[0m\u001b[1;33m\u001b[0m\u001b[1;33m\u001b[0m\u001b[0m\n\u001b[0m\u001b[0;32m      5\u001b[0m \u001b[1;33m\u001b[0m\u001b[0m\n\u001b[0;32m      6\u001b[0m \u001b[0mnew_cmap\u001b[0m \u001b[1;33m=\u001b[0m \u001b[0mcolors\u001b[0m\u001b[1;33m.\u001b[0m\u001b[0mLinearSegmentedColormap\u001b[0m\u001b[1;33m.\u001b[0m\u001b[0mfrom_list\u001b[0m\u001b[1;33m(\u001b[0m\u001b[1;34m\"test\"\u001b[0m\u001b[1;33m,\u001b[0m\u001b[0mplt\u001b[0m\u001b[1;33m.\u001b[0m\u001b[0mget_cmap\u001b[0m\u001b[1;33m(\u001b[0m\u001b[1;34m'Blues'\u001b[0m\u001b[1;33m)\u001b[0m\u001b[1;33m(\u001b[0m\u001b[0mnp\u001b[0m\u001b[1;33m.\u001b[0m\u001b[0mlinspace\u001b[0m\u001b[1;33m(\u001b[0m\u001b[1;36m0.1\u001b[0m\u001b[1;33m,\u001b[0m\u001b[1;36m0.9\u001b[0m\u001b[1;33m,\u001b[0m\u001b[1;36m100\u001b[0m\u001b[1;33m)\u001b[0m\u001b[1;33m)\u001b[0m\u001b[1;33m)\u001b[0m\u001b[1;33m\u001b[0m\u001b[1;33m\u001b[0m\u001b[0m\n",
      "\u001b[1;31mNameError\u001b[0m: name 'tauratio' is not defined"
     ]
    }
   ],
   "source": [
    "import matplotlib.ticker as ticker\n",
    "import matplotlib.colors as colors\n",
    "\n",
    "ratio=tauratio(11500,1900,R,THETA)\n",
    "\n",
    "new_cmap = colors.LinearSegmentedColormap.from_list(\"test\",plt.get_cmap('Blues')(np.linspace(0.1,0.9,100)))\n",
    "new_cmap.set_bad('magenta')\n",
    "\n",
    "fig, ax = plt.subplots(figsize=(13,10))\n",
    "plt.imshow(np.log10(ratio),aspect='auto',extent=[np.min(r)/1.49e13,np.max(r)/1.49e13,0,np.pi],cmap=new_cmap,\n",
    "          origin='lower')\n",
    "plt.xlabel(\"Heliocentric Distance [AU]\",fontsize=30)\n",
    "plt.ylabel(\"Rotation State Angle $\\\\theta$\",fontsize=30)\n",
    "ax.set_yticks(np.pi*np.linspace(0,1,9))\n",
    "\n",
    "ax.set_yticklabels([0,\"$\\\\pi/8$\",\"$\\\\pi/4$\",\"$3\\\\pi/8$\",\"$\\\\pi/2$\",\n",
    "                   \"$5\\\\pi/8$\",\"$3\\\\pi/4$\",\"$7\\\\pi/8$\",\"$\\\\pi$\"])\n",
    "\n",
    "def fmtbar(x,pos):\n",
    "    return(r'$10^{{{}}}$'.format(x))\n",
    "\n",
    "cb=plt.colorbar(ax=ax,format=ticker.FuncFormatter(fmtbar))\n",
    "cb.set_label(\"$\\\\tau_{\\\\mathrm{jet}}/\\\\tau_{\\\\mathrm{tidal}}$\",fontsize=30)\n",
    "\n",
    "def fmtcont(x):\n",
    "    return(r'{:.2e}'.format(x))\n",
    "\n",
    "levels=np.logspace(np.min(np.log10(ratio)),np.max(np.log10(ratio)),16)\n",
    "\n",
    "CS=ax.contour(R/1.49e13,THETA,ratio,origin='lower',colors='k',linestyles='dashed',levels=levels)\n",
    "ax.clabel(CS, CS.levels[6:], inline=True, fmt=fmtcont, fontsize=20,rightside_up=True)\n",
    "#plt.title(\"Outgassing to Tidal Torques Ratio\")\n",
    "#plt.grid()\n",
    "plt.savefig('torque_ratio.pdf',\n",
    "           bbox_inches='tight',dpi=300)\n",
    "plt.show()"
   ]
  }
 ],
 "metadata": {
  "kernelspec": {
   "display_name": "Python 3",
   "language": "python",
   "name": "python3"
  },
  "language_info": {
   "codemirror_mode": {
    "name": "ipython",
    "version": 3
   },
   "file_extension": ".py",
   "mimetype": "text/x-python",
   "name": "python",
   "nbconvert_exporter": "python",
   "pygments_lexer": "ipython3",
   "version": "3.7.10"
  }
 },
 "nbformat": 4,
 "nbformat_minor": 5
}
