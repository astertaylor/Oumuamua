{
 "cells": [
  {
   "cell_type": "code",
   "execution_count": 3,
   "id": "1cd0b311",
   "metadata": {},
   "outputs": [],
   "source": [
    "import numpy as np\n",
    "import pandas as pd\n",
    "import matplotlib.pyplot as plt"
   ]
  },
  {
   "cell_type": "code",
   "execution_count": 4,
   "id": "636e91f2",
   "metadata": {},
   "outputs": [],
   "source": [
    "import scipy.optimize as opt\n",
    "from matplotlib.colors import LogNorm\n",
    "\n",
    "def conf_interval(x, pdf, conf_level):\n",
    "    return np.sum(pdf[pdf > x])-conf_level\n",
    "\n",
    "def plot_2d_dist(x,y, xlim, ylim, nxbins, nybins, figsize=(5,5), \n",
    "                cmin=1.e-4, cmax=1.0, smooth=None, xpmax=None, ypmax=None, \n",
    "                log=False, weights=None, xlabel='x', ylabel='y', \n",
    "                clevs=None, fig_setup=None, savefig=None):\n",
    "    \"\"\"\n",
    "    construct and plot a binned, 2d distribution in the x-y plane \n",
    "    using nxbins and nybins in x- and y- direction, respectively\n",
    "    \n",
    "    log = specifies whether logged quantities are passed to be plotted on log-scale outside this routine\n",
    "    \"\"\"\n",
    "    if fig_setup is None:\n",
    "        fig, ax = plt.subplots(figsize=figsize)\n",
    "        plt.ylabel(ylabel)\n",
    "        plt.xlabel(xlabel)\n",
    "        plt.xlim(xlim[0], xlim[1])\n",
    "        plt.ylim(ylim[0], ylim[1])\n",
    "    else:\n",
    "        ax = fig_setup\n",
    "        ax.set_xlabel(xlabel)\n",
    "        ax.set_ylabel(ylabel)\n",
    "        ax.set_xlim(xlim); ax.set_ylim(ylim)\n",
    "\n",
    "    if xlim[1] < 0.: ax.invert_xaxis()\n",
    "\n",
    "    if weights is None: weights = np.ones_like(x)\n",
    "    H, xbins, ybins = np.histogram2d(x, y, weights=weights, bins=(np.linspace(xlim[0], xlim[1], nxbins),np.linspace(ylim[0], ylim[1], nybins)))\n",
    "    \n",
    "    H = np.rot90(H); H = np.flipud(H); \n",
    "             \n",
    "    X,Y = np.meshgrid(xbins[:-1],ybins[:-1]) \n",
    "\n",
    "    if smooth != None:\n",
    "        from scipy.signal import wiener\n",
    "        H = wiener(H, mysize=smooth)\n",
    "        \n",
    "    H = H/np.sum(H)        \n",
    "    Hmask = np.ma.masked_where(H==0,H)\n",
    "    \n",
    "    if log:\n",
    "        X = np.power(10.,X); Y = np.power(10.,Y)\n",
    "\n",
    "    pcol = ax.pcolormesh(X, Y,(Hmask),  cmap=plt.cm.BuPu, norm = LogNorm(), linewidth=0., rasterized=True)\n",
    "    pcol.set_edgecolor('face')\n",
    "    \n",
    "    # plot contours if contour levels are specified in clevs \n",
    "    if clevs is not None:\n",
    "        lvls = []\n",
    "        for cld in clevs:  \n",
    "            sig = opt.brentq( conf_interval, 0., 1., args=(H,cld) )   \n",
    "            lvls.append(sig)\n",
    "        \n",
    "        ax.contour(X, Y, H, linewidths=(1.0,0.75, 0.5, 0.25), colors='black', levels = sorted(lvls), \n",
    "                norm = LogNorm(), extent = [xbins[0], xbins[-1], ybins[0], ybins[-1]])\n",
    "    if xpmax is not None:\n",
    "        ax.scatter(xpmax, ypmax, marker='x', c='orangered', s=20)\n",
    "    if savefig:\n",
    "        plt.savefig(savefig,bbox_inches='tight')\n",
    "    if fig_setup is None:\n",
    "        plt.show()\n",
    "    return"
   ]
  },
  {
   "cell_type": "code",
   "execution_count": 5,
   "id": "4e818859",
   "metadata": {},
   "outputs": [
    {
     "ename": "NameError",
     "evalue": "name 'chain' is not defined",
     "output_type": "error",
     "traceback": [
      "\u001b[1;31m---------------------------------------------------------------------------\u001b[0m",
      "\u001b[1;31mNameError\u001b[0m                                 Traceback (most recent call last)",
      "\u001b[1;32m<ipython-input-5-a3900306dd84>\u001b[0m in \u001b[0;36m<module>\u001b[1;34m\u001b[0m\n\u001b[1;32m----> 1\u001b[1;33m plot_2d_dist(chain[:,1], chain[:,2], xlim=[2.5,3.5], ylim =[0.1,0.4], \n\u001b[0m\u001b[0;32m      2\u001b[0m              \u001b[0mnxbins\u001b[0m\u001b[1;33m=\u001b[0m\u001b[1;36m100\u001b[0m\u001b[1;33m,\u001b[0m \u001b[0mnybins\u001b[0m\u001b[1;33m=\u001b[0m\u001b[1;36m100\u001b[0m\u001b[1;33m,\u001b[0m\u001b[1;33m\u001b[0m\u001b[1;33m\u001b[0m\u001b[0m\n\u001b[0;32m      3\u001b[0m              \u001b[0mclevs\u001b[0m\u001b[1;33m=\u001b[0m\u001b[0mconflevs\u001b[0m\u001b[1;33m,\u001b[0m \u001b[0mxpmax\u001b[0m\u001b[1;33m=\u001b[0m\u001b[0mctrue\u001b[0m\u001b[1;33m,\u001b[0m \u001b[0mypmax\u001b[0m\u001b[1;33m=\u001b[0m\u001b[0mbtrue\u001b[0m\u001b[1;33m,\u001b[0m\u001b[1;33m\u001b[0m\u001b[1;33m\u001b[0m\u001b[0m\n\u001b[0;32m      4\u001b[0m              \u001b[0mylabel\u001b[0m\u001b[1;33m=\u001b[0m\u001b[1;34mr'${\\rm scatter}\\ s$'\u001b[0m\u001b[1;33m,\u001b[0m\u001b[1;33m\u001b[0m\u001b[1;33m\u001b[0m\u001b[0m\n\u001b[0;32m      5\u001b[0m              xlabel=r'${\\rm slope}\\ b$', figsize=(3,3))\n",
      "\u001b[1;31mNameError\u001b[0m: name 'chain' is not defined"
     ]
    }
   ],
   "source": [
    "chain=pd.read_csv(\"MCMCOutput\")\n",
    "\n",
    "plot_2d_dist(chain[:,2], chain[:,2], xlim=[2.5,3.5], ylim =[0.1,0.4], \n",
    "             nxbins=100, nybins=100, \n",
    "             clevs=conflevs, xpmax=ctrue, ypmax=btrue, \n",
    "             ylabel=r'${\\rm scatter}\\ s$', \n",
    "             xlabel=r'${\\rm slope}\\ b$', figsize=(3,3))"
   ]
  }
 ],
 "metadata": {
  "kernelspec": {
   "display_name": "Python 3",
   "language": "python",
   "name": "python3"
  },
  "language_info": {
   "codemirror_mode": {
    "name": "ipython",
    "version": 3
   },
   "file_extension": ".py",
   "mimetype": "text/x-python",
   "name": "python",
   "nbconvert_exporter": "python",
   "pygments_lexer": "ipython3",
   "version": "3.7.10"
  }
 },
 "nbformat": 4,
 "nbformat_minor": 5
}
